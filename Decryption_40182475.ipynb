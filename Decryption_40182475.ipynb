{
 "cells": [
  {
   "cell_type": "code",
   "execution_count": 56,
   "metadata": {},
   "outputs": [
    {
     "name": "stdout",
     "output_type": "stream",
     "text": [
      "Enter a prime number for p: 63761\n",
      "Enter a prime number for q: 34171\n",
      "RSA Modulus(n) is: 2178777131\n",
      "Phi(n) is: 2178679200\n",
      "Public key (e,N) is:  (7057, 2178777131)\n",
      "s=-849922607. Since -849922607 is less than 0, s = s(modr), i.e., s=1328756593.\n",
      "Private key (d,N) is:  (1328756593, 2178777131)\n",
      "Message to decrypt: 2049476691,314749000,1992964936\n",
      "Your decrypted message is: Good Day\n"
     ]
    }
   ],
   "source": [
    "#input prime numbers\n",
    "#two random prime numbers\n",
    "p = int(input(\"Enter a prime number for p: \"))\n",
    "q = int(input(\"Enter a prime number for q: \"))\n",
    "#RSA Modulus\n",
    "n = p*q\n",
    "print(\"RSA Modulus(n) is:\",n)\n",
    "#Phi(n) is r\n",
    "r = (p-1)*(q-1)\n",
    "print(\"Phi(n) is:\", r)\n",
    "e = 7057\n",
    "public = (e,n)\n",
    "print(\"Public key (e,N) is: \",public)\n",
    "def eea(a,b):\n",
    "    if(a==0):\n",
    "        return(b,0,1)\n",
    "    else:\n",
    "        gcd,s,t = eea(b%a,a)\n",
    "        return gcd,t-(b//a)*s,s\n",
    "def mult_inv(e,r):\n",
    "    gcd,s,t=eea(e,r)\n",
    "    if(gcd!=1):\n",
    "        return None\n",
    "    else:\n",
    "        if(s<0):\n",
    "            print(\"s=%d. Since %d is less than 0, s = s(modr), i.e., s=%d.\"%(s,s,s%r))\n",
    "        elif(s>0):\n",
    "            print(\"s=%d.\"%(s))\n",
    "        return s%r\n",
    "    \n",
    "def exp_func(u,v):\n",
    "    exp = bin(v)\n",
    "    #print(exp)\n",
    "    value = u\n",
    " \n",
    "    for j in range(3, len(exp)): \n",
    "      value = value * value\n",
    "      #print(j)\n",
    "      if(exp[j:j+1]=='1'):\n",
    "        value = (value*u)%n\n",
    "        #print(n)\n",
    "    return value\n",
    "d = mult_inv(e,r)\n",
    "private = (d,n)\n",
    "print(\"Private key (d,N) is: \",private)\n",
    "\n",
    "'''DECRYPTION ALGORITHM'''\n",
    "def decrypt(priv_key,c_text):\n",
    "    d,n=priv_key\n",
    "    txt=c_text.split(',')\n",
    "    x=''\n",
    "    m=0\n",
    "    t=[]\n",
    "    for i in txt:\n",
    "            i=i.replace(\" \",\"\")\n",
    "            b=exp_func(int(i),d)\n",
    "            m=b\n",
    "            j = hex(m)\n",
    "            kk = (j[2:])\n",
    "            lo = bytes.fromhex(kk).decode('utf-8')\n",
    "            t += lo\n",
    "    return t\n",
    "messag = input(\"Message to decrypt: \")\n",
    "dec_msg=decrypt(private,messag)\n",
    "print(\"Your decrypted message is:\",\"\".join(dec_msg))"
   ]
  },
  {
   "cell_type": "code",
   "execution_count": 59,
   "metadata": {},
   "outputs": [
    {
     "name": "stdout",
     "output_type": "stream",
     "text": [
      "Public key (e,N) is:  (2147483647, 2841846541)\n",
      "Message to decrypt: 457522536,2083237871,1482738265,465163032,19825951,465163032,877211441\n"
     ]
    },
    {
     "ename": "UnicodeDecodeError",
     "evalue": "'utf-8' codec can't decode byte 0xed in position 3: unexpected end of data",
     "output_type": "error",
     "traceback": [
      "\u001b[1;31m---------------------------------------------------------------------------\u001b[0m",
      "\u001b[1;31mUnicodeDecodeError\u001b[0m                        Traceback (most recent call last)",
      "\u001b[1;32m<ipython-input-59-308f031de2e9>\u001b[0m in \u001b[0;36m<module>\u001b[1;34m\u001b[0m\n\u001b[0;32m     36\u001b[0m \u001b[0mmessag\u001b[0m \u001b[1;33m=\u001b[0m \u001b[0minput\u001b[0m\u001b[1;33m(\u001b[0m\u001b[1;34m\"Message to decrypt: \"\u001b[0m\u001b[1;33m)\u001b[0m\u001b[1;33m\u001b[0m\u001b[1;33m\u001b[0m\u001b[0m\n\u001b[0;32m     37\u001b[0m \u001b[1;33m\u001b[0m\u001b[0m\n\u001b[1;32m---> 38\u001b[1;33m \u001b[0mdec_msg\u001b[0m\u001b[1;33m=\u001b[0m\u001b[0mdecrypt\u001b[0m\u001b[1;33m(\u001b[0m\u001b[0mpublic\u001b[0m\u001b[1;33m,\u001b[0m\u001b[0mmessag\u001b[0m\u001b[1;33m)\u001b[0m\u001b[1;33m\u001b[0m\u001b[1;33m\u001b[0m\u001b[0m\n\u001b[0m\u001b[0;32m     39\u001b[0m \u001b[0mprint\u001b[0m\u001b[1;33m(\u001b[0m\u001b[1;34m\"Your decrypted message is:\"\u001b[0m\u001b[1;33m,\u001b[0m\u001b[1;34m\"\"\u001b[0m\u001b[1;33m.\u001b[0m\u001b[0mjoin\u001b[0m\u001b[1;33m(\u001b[0m\u001b[0mdec_msg\u001b[0m\u001b[1;33m)\u001b[0m\u001b[1;33m)\u001b[0m\u001b[1;33m\u001b[0m\u001b[1;33m\u001b[0m\u001b[0m\n",
      "\u001b[1;32m<ipython-input-59-308f031de2e9>\u001b[0m in \u001b[0;36mdecrypt\u001b[1;34m(pub_key, c_text)\u001b[0m\n\u001b[0;32m     30\u001b[0m             \u001b[0mj\u001b[0m \u001b[1;33m=\u001b[0m \u001b[0mhex\u001b[0m\u001b[1;33m(\u001b[0m\u001b[0mm\u001b[0m\u001b[1;33m)\u001b[0m\u001b[1;33m\u001b[0m\u001b[1;33m\u001b[0m\u001b[0m\n\u001b[0;32m     31\u001b[0m             \u001b[0mkk\u001b[0m \u001b[1;33m=\u001b[0m \u001b[1;33m(\u001b[0m\u001b[0mj\u001b[0m\u001b[1;33m[\u001b[0m\u001b[1;36m2\u001b[0m\u001b[1;33m:\u001b[0m\u001b[1;33m]\u001b[0m\u001b[1;33m)\u001b[0m\u001b[1;33m\u001b[0m\u001b[1;33m\u001b[0m\u001b[0m\n\u001b[1;32m---> 32\u001b[1;33m             \u001b[0mlo\u001b[0m \u001b[1;33m=\u001b[0m \u001b[0mbytes\u001b[0m\u001b[1;33m.\u001b[0m\u001b[0mfromhex\u001b[0m\u001b[1;33m(\u001b[0m\u001b[0mkk\u001b[0m\u001b[1;33m)\u001b[0m\u001b[1;33m.\u001b[0m\u001b[0mdecode\u001b[0m\u001b[1;33m(\u001b[0m\u001b[1;34m'utf-8'\u001b[0m\u001b[1;33m)\u001b[0m\u001b[1;33m\u001b[0m\u001b[1;33m\u001b[0m\u001b[0m\n\u001b[0m\u001b[0;32m     33\u001b[0m             \u001b[0mt\u001b[0m \u001b[1;33m+=\u001b[0m \u001b[0mlo\u001b[0m\u001b[1;33m\u001b[0m\u001b[1;33m\u001b[0m\u001b[0m\n\u001b[0;32m     34\u001b[0m     \u001b[1;32mreturn\u001b[0m \u001b[0mt\u001b[0m\u001b[1;33m\u001b[0m\u001b[1;33m\u001b[0m\u001b[0m\n",
      "\u001b[1;31mUnicodeDecodeError\u001b[0m: 'utf-8' codec can't decode byte 0xed in position 3: unexpected end of data"
     ]
    }
   ],
   "source": [
    "n = 2841846541\n",
    "e = 2147483647\n",
    "public = (e,n)\n",
    "print(\"Public key (e,N) is: \",public)\n",
    "  \n",
    "def exp_func(u,v):\n",
    "    exp = bin(v)\n",
    "    #print(exp)\n",
    "    value = u\n",
    " \n",
    "    for j in range(3, len(exp)): \n",
    "      value = value * value\n",
    "      #print(j)\n",
    "      if(exp[j:j+1]=='1'):\n",
    "        value = (value*u)%n\n",
    "        #print(n)\n",
    "    return value\n",
    "\n",
    "'''DECRYPTION ALGORITHM'''\n",
    "def decrypt(pub_key,c_text):\n",
    "    e,n=pub_key\n",
    "    txt=c_text.split(',')\n",
    "    x=''\n",
    "    m=0\n",
    "    t=[]\n",
    "    for i in txt:\n",
    "            i=i.replace(\" \",\"\")\n",
    "            b=exp_func(int(i),e)\n",
    "            m=b\n",
    "            j = hex(m)\n",
    "            kk = (j[2:])\n",
    "            lo = bytes.fromhex(kk).decode('utf-8')\n",
    "            t += lo\n",
    "    return t\n",
    "\n",
    "messag = input(\"Message to decrypt: \")\n",
    "\n",
    "dec_msg=decrypt(public,messag)\n",
    "print(\"Your decrypted message is:\",\"\".join(dec_msg))"
   ]
  },
  {
   "cell_type": "code",
   "execution_count": 60,
   "metadata": {},
   "outputs": [
    {
     "name": "stdout",
     "output_type": "stream",
     "text": [
      "Public key (e,N) is:  (7057, 2178777131)\n",
      "Message to decrypt: 249995764,387941428,1952897313,1995879262,1508288152\n",
      "Your decrypted message is: Snigdha Chama\n"
     ]
    }
   ],
   "source": [
    "n = 2178777131\n",
    "e = 7057\n",
    "public = (e,n)\n",
    "print(\"Public key (e,N) is: \",public)\n",
    "  \n",
    "def exp_func(u,v):\n",
    "    exp = bin(v)\n",
    "    #print(exp)\n",
    "    value = u\n",
    " \n",
    "    for j in range(3, len(exp)): \n",
    "      value = value * value\n",
    "      #print(j)\n",
    "      if(exp[j:j+1]=='1'):\n",
    "        value = (value*u)%n\n",
    "        #print(n)\n",
    "    return value\n",
    "\n",
    "'''DECRYPTION ALGORITHM'''\n",
    "def decrypt(pub_key,c_text):\n",
    "    e,n=pub_key\n",
    "    txt=c_text.split(',')\n",
    "    x=''\n",
    "    m=0\n",
    "    t=[]\n",
    "    for i in txt:\n",
    "            i=i.replace(\" \",\"\")\n",
    "            b=exp_func(int(i),e)\n",
    "            m=b\n",
    "            j = hex(m)\n",
    "            kk = (j[2:])\n",
    "            lo = bytes.fromhex(kk).decode('utf-8')\n",
    "            t += lo\n",
    "    return t\n",
    "\n",
    "messag = input(\"Message to decrypt: \")\n",
    "\n",
    "dec_msg=decrypt(public,messag)\n",
    "print(\"Your decrypted message is:\",\"\".join(dec_msg))"
   ]
  },
  {
   "cell_type": "code",
   "execution_count": null,
   "metadata": {},
   "outputs": [],
   "source": []
  }
 ],
 "metadata": {
  "kernelspec": {
   "display_name": "Python 3",
   "language": "python",
   "name": "python3"
  },
  "language_info": {
   "codemirror_mode": {
    "name": "ipython",
    "version": 3
   },
   "file_extension": ".py",
   "mimetype": "text/x-python",
   "name": "python",
   "nbconvert_exporter": "python",
   "pygments_lexer": "ipython3",
   "version": "3.8.5"
  }
 },
 "nbformat": 4,
 "nbformat_minor": 4
}
