{
 "cells": [
  {
   "cell_type": "code",
   "execution_count": 30,
   "metadata": {
    "scrolled": true
   },
   "outputs": [
    {
     "name": "stdout",
     "output_type": "stream",
     "text": [
      "RSA Modulus(n) is: 2841846541\n",
      "The value of e is: 2147483647\n",
      "Public Key e,N is:  (2147483647, 2841846541)\n",
      "Message to encrypt:Successful Code\n",
      "['Suc', 'ces', 'sfu', 'l C', 'ode']\n",
      "Your encrypted message is: [2129662528, 529954373, 2218616258, 895635137, 459340255]\n"
     ]
    }
   ],
   "source": [
    "import math\n",
    "import sys\n",
    "n = 2841846541\n",
    "e = 2147483647\n",
    "print(\"RSA Modulus(n) is:\",n)\n",
    "print(\"The value of e is:\",e)\n",
    "public = (e,n)\n",
    "print(\"Public Key e,N is: \",public)\n",
    "\n",
    "def exp_func(u,v):\n",
    "    exp = bin(v)\n",
    "    value = u\n",
    " \n",
    "    for j in range(3, len(exp)):\n",
    "      value = value * value\n",
    "      if(exp[j:j+1]=='1'):\n",
    "        value = (value*u)%n\n",
    "    return value\n",
    "\n",
    "#Encryption\n",
    "'''ENCRYPTION ALGORITHM.'''\n",
    "def encrypt(pub_key,n_text):\n",
    "    e,n=pub_key\n",
    "    x=[]\n",
    "    m=0\n",
    "    for i in n_text:\n",
    "            m= i\n",
    "            c=exp_func(m,e)\n",
    "            x.append(c)\n",
    "    return x    \n",
    " \n",
    "def converter(str):\n",
    "    ra = 3\n",
    "    d=[]\n",
    "    chunks = [str[i:i+ra] for i in range(0, len(str), ra)]\n",
    "    print(chunks)\n",
    "    for i in chunks:\n",
    "        s = i.encode('utf-8')\n",
    "        x = int(s.hex(), 16)\n",
    "        d.append(x)\n",
    "    return d\n",
    "#Message\n",
    "messag = input(\"Message to encrypt:\")\n",
    "message = converter(messag)\n",
    "\n",
    "enc_msg=encrypt(public,message)\n",
    "print(\"Your encrypted message is:\",enc_msg)"
   ]
  },
  {
   "cell_type": "code",
   "execution_count": 31,
   "metadata": {},
   "outputs": [
    {
     "name": "stdout",
     "output_type": "stream",
     "text": [
      "Message to encrypt:Snigdha Chama\n",
      "['Sni', 'gdh', 'a C', 'ham', 'a']\n",
      "Your encrypted message is: [249995764, 387941428, 1952897313, 1995879262, 1508288152]\n"
     ]
    }
   ],
   "source": [
    "import math\n",
    "import sys\n",
    "n = 2178777131\n",
    "e = 1328756593\n",
    "#print(\"RSA Modulus(n) is:\",n)\n",
    "#print(\"The value of e is:\",e)\n",
    "public = (e,n)\n",
    "#print(\"Public Key e,N is: \",public)\n",
    "\n",
    "def exp_func(u,v):\n",
    "    exp = bin(v)\n",
    "    value = u\n",
    " \n",
    "    for j in range(3, len(exp)):\n",
    "      value = value * value\n",
    "      if(exp[j:j+1]=='1'):\n",
    "        value = (value*u)%n\n",
    "    return value\n",
    "\n",
    "#Encryption\n",
    "'''ENCRYPTION ALGORITHM.'''\n",
    "def encrypt(pub_key,n_text):\n",
    "    e,n=pub_key\n",
    "    x=[]\n",
    "    m=0\n",
    "    for i in n_text:\n",
    "            m= i\n",
    "            c=exp_func(m,e)\n",
    "            x.append(c)\n",
    "    return x    \n",
    " \n",
    "def converter(str):\n",
    "    ra = 3\n",
    "    d=[]\n",
    "    chunks = [str[i:i+ra] for i in range(0, len(str), ra)]\n",
    "    print(chunks)\n",
    "    for i in chunks:\n",
    "        s = i.encode('utf-8')\n",
    "        x = int(s.hex(), 16)\n",
    "        d.append(x)\n",
    "    return d\n",
    "\n",
    "#Message\n",
    "messag = input(\"Message to encrypt:\")\n",
    "message = converter(messag)\n",
    "\n",
    "enc_msg=encrypt(public,message)\n",
    "print(\"Your encrypted message is:\",enc_msg)"
   ]
  },
  {
   "cell_type": "code",
   "execution_count": null,
   "metadata": {},
   "outputs": [],
   "source": []
  }
 ],
 "metadata": {
  "kernelspec": {
   "display_name": "Python 3",
   "language": "python",
   "name": "python3"
  },
  "language_info": {
   "codemirror_mode": {
    "name": "ipython",
    "version": 3
   },
   "file_extension": ".py",
   "mimetype": "text/x-python",
   "name": "python",
   "nbconvert_exporter": "python",
   "pygments_lexer": "ipython3",
   "version": "3.8.5"
  }
 },
 "nbformat": 4,
 "nbformat_minor": 4
}
